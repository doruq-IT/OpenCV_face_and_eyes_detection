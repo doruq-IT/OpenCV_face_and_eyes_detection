{
 "cells": [
  {
   "cell_type": "code",
   "execution_count": 2,
   "metadata": {},
   "outputs": [],
   "source": [
    "import cv2\n",
    "import numpy as np\n",
    "import os"
   ]
  },
  {
   "cell_type": "code",
   "execution_count": 2,
   "metadata": {},
   "outputs": [],
   "source": [
    "os.environ['OPENCV_VIDEOIO_PRIORITY_MSMF'] = \"0\""
   ]
  },
  {
   "cell_type": "code",
   "execution_count": 3,
   "metadata": {},
   "outputs": [],
   "source": [
    "#%% Template Matching\n",
    "\n",
    "source = cv2.imread(\"./sources/source.jpg\")\n",
    "template = cv2.imread(\"./sources/template.jpg\")\n",
    "\n",
    "source_gray = cv2.cvtColor(source, cv2.COLOR_BGR2GRAY)\n",
    "template_gray = cv2.cvtColor(template, cv2.COLOR_BGR2GRAY)\n",
    "\n",
    "w,h = template_gray.shape[::-1] # bütün herşeyi al, ama -1 olduğu için tam tersini al\n",
    "# template_gray.shape => 80,120\n",
    "R = cv2.matchTemplate(source_gray, template_gray, cv2.TM_CCOEFF_NORMED)\n",
    "\n",
    "threshold = 0.6\n",
    "\n",
    "loc = np.where(R > threshold) # => R ı threshold dan büyük değerleri al\n",
    "# loc => koordinatları\n",
    "for pt in zip(*loc[::-1]): # zip(*loc[::-1]) => x ve y yi birleştiriyoruz.\n",
    "    cv2.rectangle(source, pt, (pt[0]+w, pt[1]+h), (255,120,15), 2)\n",
    "\n",
    "cv2.imshow(\"Source\", source)\n",
    "cv2.imshow(\"Template\", template)\n",
    "#cv2.imshow(\"R\",R)\n",
    "\n",
    "cv2.waitKey(0)\n",
    "cv2.destroyAllWindows()\n"
   ]
  },
  {
   "cell_type": "code",
   "execution_count": 10,
   "metadata": {},
   "outputs": [
    {
     "name": "stdout",
     "output_type": "stream",
     "text": [
      "4\n"
     ]
    }
   ],
   "source": [
    "#%% viola-jones algoritması\n",
    "\n",
    "img = cv2.imread(\"./sources/evren.png\",0) # 0 yazarak img yi direk gray e çeviriyoruz.\n",
    "\n",
    "face_xml = cv2.CascadeClassifier(\"./sources/haarcascade_frontalface_default.xml\")\n",
    "# frontal xml dosyasınıda aldık\n",
    "result = face_xml.detectMultiScale(img,1.3, 4) # img,1.3, 4 => resmi 4 kere tara 1.3 oranında büyüt.\n",
    "# result => [[157 148 219 219]]\n",
    "# len(result[0]) => 4\n",
    "x, y, w, h = [result[0][i] for i in range(len(result[0]))] #List comprehension\n",
    "# x, y => çizeceğimiz dikdörtgenin en üst sol pikselleri\n",
    "# w, h => çizeceğimiz dikdörtgenin genişlik ve yüksekliği\n",
    "# x = 157, y = 148, w = 219, h = 219\n",
    "cv2.rectangle(img, (x,y), (x+w,y+h), (255,255,0),3)\n",
    "# (x,y) => sol üst\n",
    "# (x+w,y+h) => sağ alt\n",
    "cv2.imshow(\"Evren\",img)\n",
    "\n",
    "cv2.waitKey(0)\n",
    "cv2.destroyAllWindows()"
   ]
  },
  {
   "cell_type": "code",
   "execution_count": 14,
   "metadata": {},
   "outputs": [],
   "source": [
    "#%% Yuz tespiti toplu\n",
    "\n",
    "img = cv2.imread(\"./sources/crowd.jpg\")\n",
    "\n",
    "img_gray = cv2.cvtColor(img, cv2.COLOR_BGR2GRAY)\n",
    "\n",
    "face_xml = cv2.CascadeClassifier(\"./sources/haarcascade_frontalface_default.xml\")\n",
    "\n",
    "result2 = face_xml.detectMultiScale(img_gray,1.1, 1)\n",
    "\n",
    "\n",
    "for x,y,w,h in result2:\n",
    "    cv2.rectangle(img, (x,y), (x+w,y+h), (255,255,0), 3)\n",
    "\n",
    "cv2.imshow(\"Crowded\",img)\n",
    "\n",
    "cv2.waitKey(0)\n",
    "cv2.destroyAllWindows()"
   ]
  },
  {
   "cell_type": "code",
   "execution_count": 6,
   "metadata": {},
   "outputs": [],
   "source": [
    "#%% Anlık görüntü yüz tespiti\n",
    "\n",
    "cam = cv2.VideoCapture(0)\n",
    "\n",
    "face_xml = cv2.CascadeClassifier(\"./sources/haarcascade_frontalface_default.xml\")\n",
    "\n",
    "while(cam.isOpened()):\n",
    "    ret,frame = cam.read()\n",
    "    \n",
    "    frame_gray = cv2.cvtColor(frame, cv2.COLOR_BGR2GRAY)\n",
    "    my_result = face_xml.detectMultiScale(frame_gray, 1.1,2)\n",
    "    \n",
    "    for x,y,w,h in my_result:\n",
    "        cv2.rectangle(frame, (x,y), (x+w, y+h), (0,255,255), 3)\n",
    "        \n",
    "    cv2.imshow(\"Frame\", frame)\n",
    "    \n",
    "    if cv2.waitKey(10) & 0xFF == ord(\"q\"):\n",
    "        break\n",
    "    \n",
    "cam.release()\n",
    "cv2.destroyAllWindows()"
   ]
  },
  {
   "cell_type": "code",
   "execution_count": 3,
   "metadata": {},
   "outputs": [],
   "source": [
    "#%% Anlık görüntü yüz ve göz tespiti\n",
    "\n",
    "cam = cv2.VideoCapture(0)\n",
    "face_xml = cv2.CascadeClassifier(\"./sources/haarcascade_frontalface_default.xml\")\n",
    "eyes_xml = cv2.CascadeClassifier(\"./sources/haarcascade_eye.xml\")\n",
    "\n",
    "while(cam.isOpened()):\n",
    "    \n",
    "    ret,frame = cam.read()\n",
    "    frame_gray = cv2.cvtColor(frame, cv2.COLOR_BGR2GRAY)\n",
    "    my_result = face_xml.detectMultiScale(frame_gray, 1.3,3)\n",
    "\n",
    "\n",
    "    for x,y,w,h in my_result:\n",
    "        cv2.rectangle(frame, (x,y), (x+w, y+h), (0,255,255), 3)\n",
    "        # Buradan sonra gözleri bulalım\n",
    "        face_roi = frame[y:y+h, x:x+w] # yüzümüzün roi si yani yüzümüzü aldık\n",
    "        face_roi_gray = cv2.cvtColor(face_roi, cv2.COLOR_BGR2GRAY) # gray e çevirdik\n",
    "        eyes_result = eyes_xml.detectMultiScale(face_roi_gray)# gözleri bulduk\n",
    "        for x_2, y_2, w_2, h_2 in eyes_result:\n",
    "            cv2.rectangle(face_roi, (x_2,y_2), (x_2+ w_2, y_2 + h_2), (255,0,0),3)      \n",
    "        \n",
    "    cv2.imshow(\"Frame\", frame)\n",
    "    \n",
    "    if cv2.waitKey(10) & 0xFF == ord(\"q\"):\n",
    "        break\n",
    "    \n",
    "cam.release()\n",
    "cv2.destroyAllWindows()"
   ]
  },
  {
   "cell_type": "code",
   "execution_count": 18,
   "metadata": {},
   "outputs": [],
   "source": [
    "#%% Full Body\n",
    "\n",
    "cam = cv2.VideoCapture(\"./sources/people2.mp4\")\n",
    "body_xml = cv2.CascadeClassifier(\"./sources/haarcascade_fullbody.xml\")\n",
    "\n",
    "while(cam.isOpened):\n",
    "    ret,frame = cam.read()\n",
    "    if ret != True:\n",
    "        print(\"Video is over\")\n",
    "        break\n",
    "    frame= cv2.resize(frame,(600,400))\n",
    "    frame_gray = cv2.cvtColor(frame, cv2.COLOR_BGR2GRAY)\n",
    "\n",
    "    my_result = body_xml.detectMultiScale(frame_gray, 1.1,1)\n",
    "    \n",
    "    for x_2, y_2, w_2, h_2 in my_result:\n",
    "        cv2.rectangle(frame, (x_2,y_2), (x_2+ w_2, y_2 + h_2), (0,255,255),3)\n",
    "    \n",
    "    cv2.imshow(\"Frame\", frame)\n",
    "    \n",
    "    if cv2.waitKey(10) & 0xFF == ord(\"q\"):\n",
    "        break\n",
    "    \n",
    "cam.release()\n",
    "cv2.destroyAllWindows()"
   ]
  },
  {
   "cell_type": "code",
   "execution_count": 8,
   "metadata": {},
   "outputs": [],
   "source": [
    "#%% Plate Recognition (plaka)\n",
    "\n",
    "plate = cv2.imread(\"./sources/plate4.jpg\")\n",
    "\n",
    "plate_gray = cv2.cvtColor(plate, cv2.COLOR_BGR2GRAY)\n",
    "plate_xml = cv2.CascadeClassifier(\"./sources/haarcascade_russian_plate_number.xml\")\n",
    "\n",
    "result2 = plate_xml.detectMultiScale(plate_gray,1.1,4)\n",
    "\n",
    "for x,y,w,h in result2:\n",
    "    cv2.rectangle(plate, (x,y), (x+w,y+h), (0,255,255),3)\n",
    "    \n",
    "cv2.imshow(\"Plate\", plate)\n",
    "\n",
    "cv2.waitKey(0)\n",
    "cv2.destroyAllWindows()"
   ]
  }
 ],
 "metadata": {
  "kernelspec": {
   "display_name": "Python 3",
   "language": "python",
   "name": "python3"
  },
  "language_info": {
   "codemirror_mode": {
    "name": "ipython",
    "version": 3
   },
   "file_extension": ".py",
   "mimetype": "text/x-python",
   "name": "python",
   "nbconvert_exporter": "python",
   "pygments_lexer": "ipython3",
   "version": "3.10.8"
  },
  "orig_nbformat": 4,
  "vscode": {
   "interpreter": {
    "hash": "5fe87102cd5f8f942401cb1142057ded62566b3e57c7d6859abcdd55d98882e4"
   }
  }
 },
 "nbformat": 4,
 "nbformat_minor": 2
}
